{
 "cells": [
  {
   "cell_type": "markdown",
   "id": "77871f80",
   "metadata": {},
   "source": [
    "# Descriptive Statistics"
   ]
  },
  {
   "cell_type": "markdown",
   "id": "17576996",
   "metadata": {},
   "source": [
    "1. Measures of Central Tendency (Mean, Median, Mode)\n",
    "2. Measures of Spread or Dispersion\n",
    "(Standard Deviation, Variance, Range, Percentile,IQR(Inter Quartile Range), Coefficient of Variance)\n",
    "3. Measures of Symmetricity \n",
    " a. Skewness - left skew, right skew \n",
    " b. Kurtosis\n",
    "4. Relation between features\n",
    " a. Covariance\n",
    " b. Correlation\n",
    " 5 Random Variables\n",
    "6. Probablity distribution function\n",
    "7. Cumulative Distribution Function\n",
    "8. Probablity Mass function\n",
    "9. Probablity Density Function\n",
    "10. Normal Distrubution : https://www.analyticsvidhya.com/blog/2021/05/normal-distribution-an-ultimate-guide/\n",
    "  Properties of Normal Distribution\n",
    "   a.It is symmetric\n",
    "   b. The mean, median, and mode are equal\n",
    "   c. Empirical rule\n",
    "   d. Skewness and kurtosis\n",
    "   d. Area under the curve\n",
    "   Probability Density Function (PDF)\n",
    "   Cumulative Density Function (CDF)"
   ]
  }
 ],
 "metadata": {
  "kernelspec": {
   "display_name": "Python 3 (ipykernel)",
   "language": "python",
   "name": "python3"
  },
  "language_info": {
   "codemirror_mode": {
    "name": "ipython",
    "version": 3
   },
   "file_extension": ".py",
   "mimetype": "text/x-python",
   "name": "python",
   "nbconvert_exporter": "python",
   "pygments_lexer": "ipython3",
   "version": "3.9.7"
  }
 },
 "nbformat": 4,
 "nbformat_minor": 5
}
