{
 "cells": [
  {
   "cell_type": "markdown",
   "id": "844f4c6d",
   "metadata": {},
   "source": [
    "# Measures of Spread / Dispersion"
   ]
  },
  {
   "cell_type": "markdown",
   "id": "d6af3ace",
   "metadata": {},
   "source": [
    "Introduction:\n",
    "Standard deviation is an important metric that is used to measure the spread in the data. It has useful applications in describing the data, statistical testing, etc. There are a number of ways in which you can calculate the standard deviation of a list of values in Python which is covered in this tutorial with examples."
   ]
  },
  {
   "cell_type": "raw",
   "id": "89730fce",
   "metadata": {},
   "source": [
    "In this tutorial, we will look at –\n",
    "\n",
    "What is standard deviation?\n",
    "Manually calculate standard deviation\n",
    "How to calculate standard deviation of a list in Python?\n",
    "Standard deviation of a numpy array\n",
    "Standard deviation of a pandas series"
   ]
  },
  {
   "cell_type": "markdown",
   "id": "cfb50ff3",
   "metadata": {},
   "source": [
    "Standard deviation is a measure of spread in the data. This means that if the standard deviation is higher, the data is more spread out and if it’s lower, the data is more centered. It is calculated by taking the square root of the variance."
   ]
  },
  {
   "cell_type": "markdown",
   "id": "6fece450",
   "metadata": {},
   "source": [
    "## standard Deviation using python code"
   ]
  },
  {
   "cell_type": "code",
   "execution_count": 3,
   "id": "05b3d5f3",
   "metadata": {},
   "outputs": [
    {
     "data": {
      "text/plain": [
       "3.6550478793033614"
      ]
     },
     "execution_count": 3,
     "metadata": {},
     "output_type": "execute_result"
    }
   ],
   "source": [
    "def get_std_dev(ls):\n",
    "    n = len(ls)\n",
    "    mean = sum(ls) / n\n",
    "    var = sum((x - mean)**2 for x in ls) / n\n",
    "    std_dev = var ** 0.5\n",
    "    return std_dev\n",
    "\n",
    "# create a list of data points\n",
    "ls = [7, 2, 4, 3, 9, 12, 10, 2]\n",
    "get_std_dev(ls)"
   ]
  },
  {
   "cell_type": "code",
   "execution_count": null,
   "id": "d0bdaffb",
   "metadata": {},
   "outputs": [],
   "source": []
  },
  {
   "cell_type": "code",
   "execution_count": 4,
   "id": "328396af",
   "metadata": {},
   "outputs": [
    {
     "name": "stdout",
     "output_type": "stream",
     "text": [
      "3.6550478793033614\n"
     ]
    }
   ],
   "source": [
    "import numpy as np\n",
    "\n",
    "# list of data points\n",
    "ls = [7, 2, 4, 3, 9, 12, 10, 2]\n",
    "# create numpy array of list values\n",
    "ar = np.array(ls)\n",
    "# get the standard deviation\n",
    "print(ar.std())"
   ]
  },
  {
   "cell_type": "code",
   "execution_count": null,
   "id": "215aca52",
   "metadata": {},
   "outputs": [],
   "source": []
  },
  {
   "cell_type": "code",
   "execution_count": 5,
   "id": "5497a30c",
   "metadata": {},
   "outputs": [
    {
     "name": "stdout",
     "output_type": "stream",
     "text": [
      "3.9074105418879577\n"
     ]
    }
   ],
   "source": [
    "import pandas as pd\n",
    "\n",
    "# list of data points\n",
    "ls = [7, 2, 4, 3, 9, 12, 10, 2]\n",
    "# create pandas series of list values\n",
    "col = pd.Series(ls)\n",
    "# get the standard deviation\n",
    "print(col.std())"
   ]
  },
  {
   "cell_type": "code",
   "execution_count": null,
   "id": "e272bc99",
   "metadata": {},
   "outputs": [],
   "source": []
  },
  {
   "cell_type": "code",
   "execution_count": 6,
   "id": "98f00a23",
   "metadata": {},
   "outputs": [
    {
     "name": "stdout",
     "output_type": "stream",
     "text": [
      "3.6550478793033614\n"
     ]
    }
   ],
   "source": [
    "# get the standard deviation\n",
    "print(col.std(ddof=0))"
   ]
  },
  {
   "cell_type": "markdown",
   "id": "7c387c97",
   "metadata": {},
   "source": [
    "Other Resources:\n",
    "https://medium.com/analytics-vidhya/statistics-for-data-science-part-1-use-of-central-tendency-for-data-analysis-d37cff35c9ea#:~:text=Central%20Tendency%20is%20the%20measure,central%20location%20of%20the%20distribution.\n",
    "\n",
    "https://www.analyticsvidhya.com/blog/2021/04/3-central-tendency-measures-mean-mode-median/\n",
    "\n",
    "https://www.geeksforgeeks.org/measures-of-central-tendency/\n",
    "\n",
    "https://www.statsdirect.com/help/basics/measurement_scales.htm\n",
    "\n",
    "Discrete and continous vs Interval and Ratios\n",
    "https://www.intellspot.com/interval-data-examples/\n",
    "\n",
    "Discrete vs continous\n",
    "https://www.intellspot.com/discrete-vs-continuous-data/\n",
    "\n",
    "Discrete data will be  Quantitative and can be Qualitative sometimes\n",
    "Discrete nominal data\n",
    "Discrete Ordinal Data\n",
    "Discrete data\n",
    "Continous data is always Quantitative\n",
    "https://www.intellspot.com/discrete-vs-continuous-data/\n"
   ]
  }
 ],
 "metadata": {
  "kernelspec": {
   "display_name": "Python 3 (ipykernel)",
   "language": "python",
   "name": "python3"
  },
  "language_info": {
   "codemirror_mode": {
    "name": "ipython",
    "version": 3
   },
   "file_extension": ".py",
   "mimetype": "text/x-python",
   "name": "python",
   "nbconvert_exporter": "python",
   "pygments_lexer": "ipython3",
   "version": "3.9.7"
  }
 },
 "nbformat": 4,
 "nbformat_minor": 5
}
