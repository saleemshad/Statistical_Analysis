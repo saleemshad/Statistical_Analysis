{
 "cells": [
  {
   "cell_type": "markdown",
   "id": "dfd123fb",
   "metadata": {},
   "source": [
    "# Random Varibles in statistics"
   ]
  },
  {
   "cell_type": "markdown",
   "id": "9f03c0fd",
   "metadata": {},
   "source": [
    "Random Variables are quantities whose vaalues is an outcome of an statistical experiment\n",
    "Random variables give numbers to outcomes of Random events. \n",
    "(Example: Rolling of a Dice. We can get diffrent results in each random events such as 1,2,3,4,5,6 \n",
    "Choosing a card\n",
    "choosing a bingo Ball)\n",
    "We cannot predict the extact outcome but a range of outcomes.\n",
    "So, we can calculate the probablity of getting a particular outcomes of all those range of outcomes (Example: probablity of getting a number 6 in rolloing of a dice in random events)\n",
    "Random varibles can be dicrete or continuous\n"
   ]
  },
  {
   "cell_type": "markdown",
   "id": "55eafecd",
   "metadata": {},
   "source": [
    "### Discrete Random Variables"
   ]
  },
  {
   "cell_type": "markdown",
   "id": "66d891ca",
   "metadata": {},
   "source": [
    "Discrete Random variables will have finite or limited or countable number of possible values\n",
    "For Example:\n",
    "Rolling a Dice has limitations it is 1 to 6 values\n",
    "Tossing a coin: we have either heads or tails\n",
    "The probablity of each value between 0 and 1: https://en.wikipedia.org/wiki/Random_variable#/media/File:Dice_Distribution_(bar).svg\n",
    "consider the above image in this the summation of all the  p(s) Probablities is\n"
   ]
  },
  {
   "cell_type": "code",
   "execution_count": 1,
   "id": "c376cec9",
   "metadata": {},
   "outputs": [
    {
     "data": {
      "text/plain": [
       "0.7200000000000001"
      ]
     },
     "execution_count": 1,
     "metadata": {},
     "output_type": "execute_result"
    }
   ],
   "source": [
    "0.02+0.04+0.06+0.08+0.10+0.12+0.14+0.16"
   ]
  },
  {
   "cell_type": "markdown",
   "id": "a2bf3656",
   "metadata": {},
   "source": [
    "#### Probablity Mass Function ( is calculated for discrete random variables)"
   ]
  },
  {
   "cell_type": "markdown",
   "id": "4010d398",
   "metadata": {},
   "source": [
    "Resources: https://www.statology.org/pmf-statistics/ "
   ]
  },
  {
   "cell_type": "markdown",
   "id": "4cbc7a4e",
   "metadata": {},
   "source": [
    "For Example rolling a dice:\n",
    "When we roll a dice \n",
    "x =1 then there is a chance that the dice can land on any one value out of six: the probablity is 1/6\n",
    "similarly \n",
    "when \n",
    "second time   : x= 2 P(X) = 1/6\n",
    "Third Time    : x= 3 P(X) = 1/6\n",
    "Fourth Time   : x= 4 P(X) =1/6\n",
    "fifth time    : x=5 P(X)  = 1/6\n",
    "Sixth time    : x=6 P(X)  = 1/6\n"
   ]
  },
  {
   "cell_type": "code",
   "execution_count": 2,
   "id": "24ef89bc",
   "metadata": {},
   "outputs": [
    {
     "data": {
      "text/plain": [
       "0.9999999999999999"
      ]
     },
     "execution_count": 2,
     "metadata": {},
     "output_type": "execute_result"
    }
   ],
   "source": [
    "1/6 + 1/6 + 1/6 + 1/6 + 1/6 + 1/6"
   ]
  },
  {
   "cell_type": "markdown",
   "id": "9f358630",
   "metadata": {},
   "source": [
    "Probbality Mass function is Sum of probabilities =1"
   ]
  },
  {
   "cell_type": "markdown",
   "id": "b2d31627",
   "metadata": {},
   "source": [
    "### Continuous Random Variables"
   ]
  },
  {
   "cell_type": "markdown",
   "id": "cd16fae9",
   "metadata": {},
   "source": [
    "It has infinite number of possible values or outcomes\n",
    "Probablity of each distinct value is 0. \n",
    "That means the probablity outcome will always be in a continous range it will not be an absolute value.\n",
    "The probablity of a hieght of a person will be betwen 5.5 to 5.55 (which is continous since it has range of values like 5.51, 5.52, 5.521....5.55)\n",
    "\n",
    "\n",
    "Examples:\n",
    "Height of a person\n",
    "Weight of an animal\n",
    "Time required to run a mile"
   ]
  },
  {
   "cell_type": "markdown",
   "id": "e4a8d3d0",
   "metadata": {},
   "source": [
    "#### Cumulative Distribution Function (calculated for continous random variable)"
   ]
  },
  {
   "cell_type": "markdown",
   "id": "73cc2fd5",
   "metadata": {},
   "source": [
    "#### Probablity Density Function (calculated for continous random variable)"
   ]
  },
  {
   "cell_type": "markdown",
   "id": "21822f4c",
   "metadata": {},
   "source": [
    "### Mean and Mode of Random Variable"
   ]
  },
  {
   "cell_type": "markdown",
   "id": "fe2bfc4e",
   "metadata": {},
   "source": [
    "#### Mean and Mode of Discrete Random Variable"
   ]
  },
  {
   "cell_type": "markdown",
   "id": "2d03a9b0",
   "metadata": {},
   "source": [
    "The mean of a discrete random variable is the weighted mean of all the values"
   ]
  },
  {
   "cell_type": "code",
   "execution_count": 6,
   "id": "4ec712a7",
   "metadata": {},
   "outputs": [
    {
     "data": {
      "text/plain": [
       "5.2"
      ]
     },
     "execution_count": 6,
     "metadata": {},
     "output_type": "execute_result"
    }
   ],
   "source": [
    "#Airthmetic mean of values\n",
    "\n",
    "a = [1,3,5,7,10]\n",
    "len(a)                #5\n",
    "mean = sum(a)/len(a) #26/5\n",
    "mean                 #5.2\n"
   ]
  },
  {
   "cell_type": "code",
   "execution_count": 10,
   "id": "2d25ed68",
   "metadata": {},
   "outputs": [
    {
     "data": {
      "text/plain": [
       "5.2"
      ]
     },
     "execution_count": 10,
     "metadata": {},
     "output_type": "execute_result"
    }
   ],
   "source": [
    "#Weighted Mean\n",
    "weighted_mean = 1*(1/5) + 3*(1/5) + 5*(1/5) + 7*(1/5) + 10*(1/5)\n",
    "weighted_mean"
   ]
  },
  {
   "cell_type": "markdown",
   "id": "06126563",
   "metadata": {},
   "source": [
    "#### Mean and Mode of Continous Random Variable"
   ]
  },
  {
   "cell_type": "markdown",
   "id": "47bb4809",
   "metadata": {},
   "source": [
    "calculating mean of the continous random variable is not simple\n",
    "Look up the formula for Probablity distribution\n",
    "Probablity distribution is standard deviation from the mean -3 towards left side and +3 towards the right side."
   ]
  },
  {
   "cell_type": "markdown",
   "id": "819d2638",
   "metadata": {},
   "source": [
    "### Variance of Random Variables"
   ]
  },
  {
   "cell_type": "markdown",
   "id": "301e2a02",
   "metadata": {},
   "source": [
    "#### Variance of discrete random variables "
   ]
  },
  {
   "cell_type": "markdown",
   "id": "321c6be3",
   "metadata": {},
   "source": []
  },
  {
   "cell_type": "markdown",
   "id": "531dd3b7",
   "metadata": {},
   "source": [
    "#### Variance of continuos random variables "
   ]
  },
  {
   "cell_type": "markdown",
   "id": "6e8f7714",
   "metadata": {},
   "source": []
  },
  {
   "cell_type": "markdown",
   "id": "54004e4d",
   "metadata": {},
   "source": [
    "### Binomial Random Variable "
   ]
  },
  {
   "cell_type": "markdown",
   "id": "6754a581",
   "metadata": {},
   "source": [
    "It is count of number of success in a binomial experiment\n",
    "Examples:\n",
    "The number of heads when you flip a coin 30 times\n",
    "Number of people who responsed yes to the survey"
   ]
  }
 ],
 "metadata": {
  "kernelspec": {
   "display_name": "Python 3 (ipykernel)",
   "language": "python",
   "name": "python3"
  },
  "language_info": {
   "codemirror_mode": {
    "name": "ipython",
    "version": 3
   },
   "file_extension": ".py",
   "mimetype": "text/x-python",
   "name": "python",
   "nbconvert_exporter": "python",
   "pygments_lexer": "ipython3",
   "version": "3.9.7"
  }
 },
 "nbformat": 4,
 "nbformat_minor": 5
}
