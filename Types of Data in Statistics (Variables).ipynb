{
 "cells": [
  {
   "cell_type": "markdown",
   "id": "1613aa44",
   "metadata": {},
   "source": [
    "# Statistics Variables (Types of Data in Statistics) "
   ]
  },
  {
   "cell_type": "markdown",
   "id": "4034f1d9",
   "metadata": {},
   "source": [
    "Quantitative - Numerical, Continuous, Discrete, (Interval, Ratio)"
   ]
  },
  {
   "cell_type": "markdown",
   "id": "221b68af",
   "metadata": {},
   "source": [
    "Qualitative - Nomical, Ordinal ( can be discrete)"
   ]
  },
  {
   "cell_type": "markdown",
   "id": "881878b4",
   "metadata": {},
   "source": [
    "Calculation of Measures of Central Tendency Based on the Type of Variable or data\n",
    "\n",
    "Type of Variable              Measure of Central Tendancy\n",
    "---------------------------------------------------------------------------- \n",
    "Nominal                       Mode\n",
    "Ordinal                       Median\n",
    "Interval/Ratio(not skewed)    Mean\n",
    "Interval/Ratio(skewed)        Median"
   ]
  }
 ],
 "metadata": {
  "kernelspec": {
   "display_name": "Python 3 (ipykernel)",
   "language": "python",
   "name": "python3"
  },
  "language_info": {
   "codemirror_mode": {
    "name": "ipython",
    "version": 3
   },
   "file_extension": ".py",
   "mimetype": "text/x-python",
   "name": "python",
   "nbconvert_exporter": "python",
   "pygments_lexer": "ipython3",
   "version": "3.9.7"
  }
 },
 "nbformat": 4,
 "nbformat_minor": 5
}
